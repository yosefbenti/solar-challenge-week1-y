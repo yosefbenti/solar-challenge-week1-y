{
 "cells": [
  {
   "cell_type": "code",
   "execution_count": null,
   "id": "0d27df0e",
   "metadata": {},
   "outputs": [],
   "source": [
    "import pandas as pd\n",
    "import numpy as np\n",
    "import matplotlib.pyplot as plt\n",
    "import seaborn as sns\n",
    "from scipy import stats\n",
    "import plotly.express as px\n",
    "import plotly.graph_objects as go\n"
   ]
  },
  {
   "cell_type": "code",
   "execution_count": null,
   "id": "3e049681",
   "metadata": {},
   "outputs": [],
   "source": [
    "# Load the dataset\n",
    "df = pd.read_csv('../data/sierraleone-bumbuna.csv')\n",
    "df.head()\n"
   ]
  },
  {
   "cell_type": "code",
   "execution_count": null,
   "id": "ca9661d0",
   "metadata": {},
   "outputs": [],
   "source": [
    "# Summary statistics for numeric columns\n",
    "df.describe()"
   ]
  },
  {
   "cell_type": "code",
   "execution_count": null,
   "id": "4020bafd",
   "metadata": {},
   "outputs": [],
   "source": [
    "# Missing values count\n",
    "missing = df.isna().sum()\n",
    "missing[missing > 0]"
   ]
  },
  {
   "cell_type": "code",
   "execution_count": null,
   "id": "fe12865c",
   "metadata": {},
   "outputs": [],
   "source": [
    "# Columns with more than 5% nulls\n",
    "missing_ratio = df.isna().mean()\n",
    "missing_ratio[missing_ratio > 0.05]"
   ]
  },
  {
   "cell_type": "code",
   "execution_count": null,
   "id": "87004b3b",
   "metadata": {},
   "outputs": [],
   "source": [
    "# Define key columns\n",
    "cols_to_check = ['GHI', 'DNI', 'DHI', 'ModA', 'ModB','Tamb','RH','WS','WSgust',\t'WSstdev','WD','WDstdev','BP','Cleaning','Precipitation','TModA','TModB'\n",
    "]\n",
    "\n",
    "# Compute Z-scores\n",
    "z_scores = np.abs(stats.zscore(df[cols_to_check].dropna()))\n",
    "outlier_flags = (z_scores > 3)\n",
    "\n",
    "# Count rows with any outliers\n",
    "df_outliers = df[(outlier_flags).any(axis=1)]\n",
    "print(f'Outlier rows: {len(df_outliers)}')"
   ]
  },
  {
   "cell_type": "code",
   "execution_count": null,
   "id": "e5683dea",
   "metadata": {},
   "outputs": [],
   "source": [
    "# Impute with median (only for demo — use domain knowledge in real cases)\n",
    "df_clean = df.copy()\n",
    "for col in cols_to_check:\n",
    "    if df_clean[col].isna().sum() > 0:\n",
    "        df_clean[col] = df_clean[col].fillna(df_clean[col].median())\n"
   ]
  },
  {
   "cell_type": "code",
   "execution_count": null,
   "id": "a1a9e011",
   "metadata": {},
   "outputs": [],
   "source": [
    "df_clean.to_csv('../data/sierraleone_clean.csv', index=False)"
   ]
  },
  {
   "cell_type": "code",
   "execution_count": null,
   "id": "ff2ea47a",
   "metadata": {},
   "outputs": [],
   "source": [
    "df_clean['Timestamp'] = pd.to_datetime(df_clean['Timestamp'])\n",
    "\n",
    "plt.figure(figsize=(14, 6))\n",
    "df_clean.set_index('Timestamp')[['GHI', 'DNI', 'DHI','Tamb',]].plot()\n",
    "plt.title('GHI,DNI,DHI, Tamb over Time')\n",
    "plt.ylabel('Value')\n",
    "plt.xlabel('Time')\n",
    "plt.grid(True)\n",
    "plt.show()"
   ]
  },
  {
   "cell_type": "code",
   "execution_count": null,
   "id": "b139805c",
   "metadata": {},
   "outputs": [],
   "source": [
    "if 'Cleaning' in df_clean.columns:\n",
    "    df_clean.groupby('Cleaning')[['ModA', 'ModB']].mean().plot(kind='bar')\n",
    "    plt.title('ModA & ModB by Cleaning')\n",
    "    plt.ylabel('Module Reading')\n",
    "    plt.grid(True)\n",
    "    plt.show()"
   ]
  },
  {
   "cell_type": "code",
   "execution_count": null,
   "id": "497eeaa9",
   "metadata": {},
   "outputs": [],
   "source": [
    "plt.figure(figsize=(8,6))\n",
    "sns.heatmap(df_clean[['GHI', 'DNI', 'DHI', 'TModA', 'TModB']].corr(), annot=True, cmap='coolwarm')\n",
    "plt.title('Correlation Heatmap')\n",
    "plt.show()\n"
   ]
  },
  {
   "cell_type": "code",
   "execution_count": null,
   "id": "4823ac89",
   "metadata": {},
   "outputs": [],
   "source": [
    "sns.scatterplot(data=df_clean, x='WS', y='GHI')\n",
    "plt.title('WS vs GHI')\n",
    "plt.grid(True)\n",
    "plt.show()\n"
   ]
  },
  {
   "cell_type": "code",
   "execution_count": null,
   "id": "5fa695f4",
   "metadata": {},
   "outputs": [],
   "source": [
    "sns.scatterplot(data=df_clean, x='RH', y='Tamb')\n",
    "plt.title('RH vs Tamb')\n",
    "plt.grid(True)\n",
    "plt.show()"
   ]
  },
  {
   "cell_type": "code",
   "execution_count": null,
   "id": "eb5c0cf5",
   "metadata": {},
   "outputs": [],
   "source": [
    "# Requires windrose library: pip install windrose\n",
    "from windrose import WindroseAxes\n",
    "\n",
    "ax = WindroseAxes.from_ax()\n",
    "ax.bar(df_clean['WD'], df_clean['WS'], normed=True, opening=0.8, edgecolor='white')\n",
    "ax.set_legend()\n",
    "plt.title('Wind Rose')\n",
    "plt.show()\n"
   ]
  },
  {
   "cell_type": "code",
   "execution_count": null,
   "id": "5491a801",
   "metadata": {},
   "outputs": [],
   "source": [
    "df_clean['GHI'].hist(bins=30, figsize=(6,4))\n",
    "plt.title('Histogram of GHI')\n",
    "plt.grid(True)\n",
    "plt.show()\n"
   ]
  },
  {
   "cell_type": "code",
   "execution_count": null,
   "id": "1956f616",
   "metadata": {},
   "outputs": [],
   "source": [
    "df_clean['WS'].hist(bins=30, figsize=(6,4))\n",
    "plt.title('Histogram of WS')\n",
    "plt.grid(True)\n",
    "plt.show()"
   ]
  },
  {
   "cell_type": "code",
   "execution_count": null,
   "id": "1b41d2f9",
   "metadata": {},
   "outputs": [],
   "source": [
    "fig = px.scatter(df_clean, x='GHI', y='Tamb',\n",
    "                 size='RH', color='RH', \n",
    "                 title='GHI vs Tamb (Bubble size = RH)')\n",
    "fig.show()\n"
   ]
  }
 ],
 "metadata": {
  "kernelspec": {
   "display_name": "venv",
   "language": "python",
   "name": "python3"
  },
  "language_info": {
   "codemirror_mode": {
    "name": "ipython",
    "version": 3
   },
   "file_extension": ".py",
   "mimetype": "text/x-python",
   "name": "python",
   "nbconvert_exporter": "python",
   "pygments_lexer": "ipython3",
   "version": "3.12.10"
  }
 },
 "nbformat": 4,
 "nbformat_minor": 5
}
