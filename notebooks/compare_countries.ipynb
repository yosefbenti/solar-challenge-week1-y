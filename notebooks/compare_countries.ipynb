{
 "cells": [
  {
   "cell_type": "code",
   "execution_count": null,
   "id": "414eb5f2",
   "metadata": {},
   "outputs": [],
   "source": [
    "import pandas as pd"
   ]
  },
  {
   "cell_type": "code",
   "execution_count": null,
   "id": "9dd34bf4",
   "metadata": {},
   "outputs": [],
   "source": [
    "benin = pd.read_csv(\"../data/benin_clean.csv\")\n",
    "togo = pd.read_csv(\"../data/togo_clean.csv\")\n",
    "sierra = pd.read_csv(\"../data/sierraleone_clean.csv\")"
   ]
  },
  {
   "cell_type": "code",
   "execution_count": null,
   "id": "fd55f702",
   "metadata": {},
   "outputs": [],
   "source": [
    "# Add country name as a column\n",
    "benin['country'] = 'Benin'\n",
    "togo['country'] = 'Togo'\n",
    "sierra['country'] = 'Sierra Leone'"
   ]
  },
  {
   "cell_type": "code",
   "execution_count": null,
   "id": "82e28354",
   "metadata": {},
   "outputs": [],
   "source": [
    "# Combine all into one DataFrame\n",
    "df_all = pd.concat([benin, togo, sierra], ignore_index=True)"
   ]
  },
  {
   "cell_type": "code",
   "execution_count": null,
   "id": "d67368f9",
   "metadata": {},
   "outputs": [],
   "source": [
    "import seaborn as sns\n",
    "import matplotlib.pyplot as plt"
   ]
  },
  {
   "cell_type": "code",
   "execution_count": null,
   "id": "1eab2b43",
   "metadata": {},
   "outputs": [],
   "source": [
    "metrics = ['GHI', 'DNI', 'DHI']"
   ]
  },
  {
   "cell_type": "code",
   "execution_count": null,
   "id": "9ca06bd9",
   "metadata": {},
   "outputs": [],
   "source": [
    "for metric in metrics:\n",
    "    plt.figure(figsize=(8, 5))\n",
    "    sns.boxplot(data=df_all, x='country', y=metric, palette='Set2')\n",
    "    plt.title(f'{metric} Comparison Across Countries')\n",
    "    plt.ylabel(metric)\n",
    "    plt.xlabel(\"Country\")\n",
    "    plt.show()"
   ]
  },
  {
   "cell_type": "code",
   "execution_count": null,
   "id": "0f7e5630",
   "metadata": {},
   "outputs": [],
   "source": [
    "summary = df_all.groupby(\"country\")[['GHI', 'DNI', 'DHI']].agg(['mean', 'median', 'std']).round(2)\n",
    "summary"
   ]
  },
  {
   "cell_type": "code",
   "execution_count": null,
   "id": "dba31810",
   "metadata": {},
   "outputs": [],
   "source": [
    "from scipy.stats import f_oneway, kruskal\n",
    "\n",
    "# Get GHI values per country\n",
    "ghi_benin = benin['GHI'].dropna()\n",
    "ghi_togo = togo['GHI'].dropna()\n",
    "ghi_sierra = sierra['GHI'].dropna()\n",
    "\n",
    "# One-way ANOVA\n",
    "f_stat, p_val_anova = f_oneway(ghi_benin, ghi_togo, ghi_sierra)\n",
    "\n",
    "# Kruskal–Wallis (non-parametric)\n",
    "h_stat, p_val_kruskal = kruskal(ghi_benin, ghi_togo, ghi_sierra)\n",
    "\n",
    "print(\"ANOVA p-value:\", round(p_val_anova, 4))\n",
    "print(\"Kruskal–Wallis p-value:\", round(p_val_kruskal, 4))"
   ]
  },
  {
   "cell_type": "code",
   "execution_count": null,
   "id": "730b0ebc",
   "metadata": {},
   "outputs": [],
   "source": [
    "df_all.groupby(\"country\")[\"GHI\"].mean().sort_values().plot(\n",
    "    kind='bar', color='skyblue', title=\"Average GHI by Country\", ylabel=\"GHI\"\n",
    ")\n",
    "plt.show()"
   ]
  },
  {
   "cell_type": "code",
   "execution_count": null,
   "id": "0519d58f",
   "metadata": {},
   "outputs": [],
   "source": [
    "# Calculate solar score: mean of GHI, DNI, DHI\n",
    "solar_score = df_all.groupby('country')[['GHI', 'DNI', 'DHI']].mean().sum(axis=1).sort_values(ascending=False)\n",
    "\n",
    "# Display as a DataFrame\n",
    "solar_score_df = solar_score.reset_index()\n",
    "solar_score_df.columns = ['Country', 'Solar Score']\n",
    "solar_score_df"
   ]
  },
  {
   "cell_type": "code",
   "execution_count": null,
   "id": "adbbe91c",
   "metadata": {},
   "outputs": [],
   "source": [
    "plt.figure(figsize=(8, 5))\n",
    "sns.barplot(data=solar_score_df, x='Solar Score', y='Country', palette='YlOrRd')\n",
    "plt.title('Solar Score by Country')\n",
    "plt.xlabel('Solar Score (Mean of GHI + DNI + DHI)')\n",
    "plt.ylabel('Country')\n",
    "plt.tight_layout()\n",
    "plt.show()"
   ]
  }
 ],
 "metadata": {
  "kernelspec": {
   "display_name": "venv",
   "language": "python",
   "name": "python3"
  },
  "language_info": {
   "codemirror_mode": {
    "name": "ipython",
    "version": 3
   },
   "file_extension": ".py",
   "mimetype": "text/x-python",
   "name": "python",
   "nbconvert_exporter": "python",
   "pygments_lexer": "ipython3",
   "version": "3.12.10"
  }
 },
 "nbformat": 4,
 "nbformat_minor": 5
}
