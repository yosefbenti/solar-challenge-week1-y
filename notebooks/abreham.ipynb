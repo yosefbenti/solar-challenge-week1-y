{
 "cells": [
  {
   "cell_type": "code",
   "execution_count": null,
   "id": "df5ff5b0",
   "metadata": {},
   "outputs": [],
   "source": [
    "import pandas as pd\n",
    "import numpy as np\n",
    "import matplotlib.pyplot as plt\n",
    "import seaborn as sns\n",
    "from scipy import stats\n",
    "import plotly.express as px\n",
    "import plotly.graph_objects as go"
   ]
  },
  {
   "cell_type": "code",
   "execution_count": null,
   "id": "cb6ebf77",
   "metadata": {},
   "outputs": [],
   "source": [
    "# Load the dataset\n",
    "df = pd.read_csv('../data/abreham1.csv')\n",
    "df.head()"
   ]
  },
  {
   "cell_type": "code",
   "execution_count": null,
   "id": "5ab6a18a",
   "metadata": {},
   "outputs": [],
   "source": [
    "# Summary statistics for numeric columns\n",
    "df.describe()"
   ]
  },
  {
   "cell_type": "code",
   "execution_count": null,
   "id": "280aa07e",
   "metadata": {},
   "outputs": [],
   "source": [
    " #Missing values count\n",
    "missing = df.isna().sum()\n",
    "missing[missing > 0]"
   ]
  },
  {
   "cell_type": "code",
   "execution_count": null,
   "id": "e180b35c",
   "metadata": {},
   "outputs": [],
   "source": [
    "# Columns with more than 5% nulls\n",
    "missing_ratio = df.isna().mean()\n",
    "missing_ratio[missing_ratio > 0.05]"
   ]
  },
  {
   "cell_type": "code",
   "execution_count": null,
   "id": "81a84459",
   "metadata": {},
   "outputs": [],
   "source": [
    "# Define key columns\n",
    "cols_to_check = ['Year','Market_Cap','GDP_GR','IFR','LIR','Dep_IR','BMS','UPR','ECX_Rate','Ind_Using_Internet' \n",
    "]\n",
    "\n",
    "\n",
    "\n",
    "\n",
    "# Compute Z-scores\n",
    "z_scores = np.abs(stats.zscore(df[cols_to_check].dropna()))\n",
    "outlier_flags = (z_scores > 3)\n",
    "\n",
    "# Count rows with any outliers\n",
    "df_outliers = df[(outlier_flags).any(axis=1)]\n",
    "print(f'Outlier rows: {len(df_outliers)}')"
   ]
  }
 ],
 "metadata": {
  "kernelspec": {
   "display_name": "venv",
   "language": "python",
   "name": "python3"
  },
  "language_info": {
   "codemirror_mode": {
    "name": "ipython",
    "version": 3
   },
   "file_extension": ".py",
   "mimetype": "text/x-python",
   "name": "python",
   "nbconvert_exporter": "python",
   "pygments_lexer": "ipython3",
   "version": "3.12.10"
  }
 },
 "nbformat": 4,
 "nbformat_minor": 5
}
