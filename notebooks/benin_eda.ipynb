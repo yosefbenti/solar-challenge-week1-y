{
 "cells": [
  {
   "cell_type": "code",
   "execution_count": null,
   "id": "8dc9b06a",
   "metadata": {},
   "outputs": [],
   "source": [
    "import pandas as pd\n",
    "import numpy as np\n",
    "import matplotlib.pyplot as plt\n",
    "import seaborn as sns\n",
    "from scipy import stats\n",
    "import plotly.express as px\n",
    "import plotly.graph_objects as go"
   ]
  },
  {
   "cell_type": "code",
   "execution_count": null,
   "id": "3c2086d2",
   "metadata": {},
   "outputs": [],
   "source": [
    "# Load the dataset\n",
    "df = pd.read_csv('../data/benin-malanville.csv')\n",
    "df.head()\n"
   ]
  },
  {
   "cell_type": "code",
   "execution_count": null,
   "id": "c63256f4",
   "metadata": {},
   "outputs": [],
   "source": [
    "# Summary statistics for numeric columns\n",
    "df.describe()"
   ]
  },
  {
   "cell_type": "code",
   "execution_count": null,
   "id": "96f70540",
   "metadata": {},
   "outputs": [],
   "source": [
    " #Missing values count\n",
    "missing = df.isna().sum()\n",
    "missing[missing > 0]"
   ]
  },
  {
   "cell_type": "code",
   "execution_count": null,
   "id": "98a0c2cb",
   "metadata": {},
   "outputs": [],
   "source": [
    "# Columns with more than 5% nulls\n",
    "missing_ratio = df.isna().mean()\n",
    "missing_ratio[missing_ratio > 0.05]"
   ]
  },
  {
   "cell_type": "code",
   "execution_count": null,
   "id": "7ff53b13",
   "metadata": {},
   "outputs": [],
   "source": [
    "# Define key columns\n",
    "cols_to_check = ['GHI', 'DNI', 'DHI', 'ModA', 'ModB','Tamb','RH','WS','WSgust',\t'WSstdev','WD','WDstdev','BP','Cleaning','Precipitation','TModA','TModB'\n",
    "]\n",
    "\n",
    "# Compute Z-scores\n",
    "z_scores = np.abs(stats.zscore(df[cols_to_check].dropna()))\n",
    "outlier_flags = (z_scores > 3)\n",
    "\n",
    "# Count rows with any outliers\n",
    "df_outliers = df[(outlier_flags).any(axis=1)]\n",
    "print(f'Outlier rows: {len(df_outliers)}')"
   ]
  },
  {
   "cell_type": "code",
   "execution_count": null,
   "id": "d1ef57b6",
   "metadata": {},
   "outputs": [],
   "source": [
    "# Impute with median (only for demo — use domain knowledge in real cases)\n",
    "df_clean = df.copy()\n",
    "for col in cols_to_check:\n",
    "    if df_clean[col].isna().sum() > 0:\n",
    "        df_clean[col] = df_clean[col].fillna(df_clean[col].median())"
   ]
  },
  {
   "cell_type": "code",
   "execution_count": null,
   "id": "00ab272b",
   "metadata": {},
   "outputs": [],
   "source": [
    "df_clean.to_csv('../data/benin_clean.csv', index=False)"
   ]
  },
  {
   "cell_type": "code",
   "execution_count": null,
   "id": "60d484d5",
   "metadata": {},
   "outputs": [],
   "source": [
    "df_clean['Timestamp'] = pd.to_datetime(df_clean['Timestamp'])\n",
    "\n",
    "plt.figure(figsize=(14, 6))\n",
    "df_clean.set_index('Timestamp')[['GHI', 'DNI', 'DHI','Tamb',]].plot()\n",
    "plt.title('GHI,DNI,DHI, Tamb over Time')\n",
    "plt.ylabel('Value')\n",
    "plt.xlabel('Time')\n",
    "plt.grid(True)\n",
    "plt.show()"
   ]
  },
  {
   "cell_type": "code",
   "execution_count": null,
   "id": "acb79206",
   "metadata": {},
   "outputs": [],
   "source": [
    "if 'Cleaning' in df_clean.columns:\n",
    "    df_clean.groupby('Cleaning')[['ModA', 'ModB']].mean().plot(kind='bar')\n",
    "    plt.title('ModA & ModB by Cleaning')\n",
    "    plt.ylabel('Module Reading')\n",
    "    plt.grid(True)\n",
    "    plt.show()"
   ]
  },
  {
   "cell_type": "code",
   "execution_count": null,
   "id": "b246cbc0",
   "metadata": {},
   "outputs": [],
   "source": [
    "plt.figure(figsize=(8,6))\n",
    "sns.heatmap(df_clean[['GHI', 'DNI', 'DHI', 'TModA', 'TModB']].corr(), annot=True, cmap='coolwarm')\n",
    "plt.title('Correlation Heatmap')\n",
    "plt.show()"
   ]
  },
  {
   "cell_type": "code",
   "execution_count": null,
   "id": "d232e12b",
   "metadata": {},
   "outputs": [],
   "source": [
    "sns.scatterplot(data=df_clean, x='WS', y='GHI')\n",
    "plt.title('WS vs GHI')\n",
    "plt.grid(True)\n",
    "plt.show()\n"
   ]
  }
 ],
 "metadata": {
  "kernelspec": {
   "display_name": "venv",
   "language": "python",
   "name": "python3"
  },
  "language_info": {
   "codemirror_mode": {
    "name": "ipython",
    "version": 3
   },
   "file_extension": ".py",
   "mimetype": "text/x-python",
   "name": "python",
   "nbconvert_exporter": "python",
   "pygments_lexer": "ipython3",
   "version": "3.12.10"
  }
 },
 "nbformat": 4,
 "nbformat_minor": 5
}
