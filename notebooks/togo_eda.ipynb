{
 "cells": [
  {
   "cell_type": "code",
   "execution_count": null,
   "id": "3e774ee4",
   "metadata": {},
   "outputs": [],
   "source": [
    "import pandas as pd\n",
    "import numpy as np\n",
    "import matplotlib.pyplot as plt\n",
    "import seaborn as sns\n",
    "from scipy import stats\n",
    "import plotly.express as px\n",
    "import plotly.graph_objects as go"
   ]
  },
  {
   "cell_type": "code",
   "execution_count": null,
   "id": "0ba9a9ee",
   "metadata": {},
   "outputs": [],
   "source": [
    "# Load the dataset\n",
    "df = pd.read_csv('../data/togo-dapaong_qc.csv')\n",
    "df.head()\n"
   ]
  },
  {
   "cell_type": "code",
   "execution_count": null,
   "id": "d961c5b8",
   "metadata": {},
   "outputs": [],
   "source": [
    "# Summary statistics for numeric columns\n",
    "df.describe()"
   ]
  },
  {
   "cell_type": "code",
   "execution_count": null,
   "id": "40769076",
   "metadata": {},
   "outputs": [],
   "source": [
    "# Missing values count\n",
    "missing = df.isna().sum()\n",
    "missing[missing > 0]"
   ]
  },
  {
   "cell_type": "code",
   "execution_count": null,
   "id": "5d2b9ea4",
   "metadata": {},
   "outputs": [],
   "source": [
    "# Columns with more than 5% nulls\n",
    "missing_ratio = df.isna().mean()\n",
    "missing_ratio[missing_ratio > 0.05]"
   ]
  },
  {
   "cell_type": "code",
   "execution_count": null,
   "id": "228f5076",
   "metadata": {},
   "outputs": [],
   "source": [
    "# Define key columns\n",
    "cols_to_check = ['GHI', 'DNI', 'DHI', 'ModA', 'ModB','Tamb','RH','WS','WSgust',\t'WSstdev','WD','WDstdev','BP','Cleaning','Precipitation','TModA','TModB'\n",
    "]\n",
    "\n",
    "# Compute Z-scores\n",
    "z_scores = np.abs(stats.zscore(df[cols_to_check].dropna()))\n",
    "outlier_flags = (z_scores > 3)\n",
    "\n",
    "# Count rows with any outliers\n",
    "df_outliers = df[(outlier_flags).any(axis=1)]\n",
    "print(f'Outlier rows: {len(df_outliers)}')"
   ]
  },
  {
   "cell_type": "code",
   "execution_count": null,
   "id": "e4908253",
   "metadata": {},
   "outputs": [],
   "source": [
    "# Impute with median (only for demo — use domain knowledge in real cases)\n",
    "df_clean = df.copy()\n",
    "for col in cols_to_check:\n",
    "    if df_clean[col].isna().sum() > 0:\n",
    "        df_clean[col] = df_clean[col].fillna(df_clean[col].median())\n"
   ]
  },
  {
   "cell_type": "code",
   "execution_count": null,
   "id": "d788ebda",
   "metadata": {},
   "outputs": [],
   "source": [
    "df_clean.to_csv('../data/togo_clean.csv', index=False)"
   ]
  },
  {
   "cell_type": "code",
   "execution_count": null,
   "id": "7d594695",
   "metadata": {},
   "outputs": [],
   "source": [
    "df_clean['Timestamp'] = pd.to_datetime(df_clean['Timestamp'])\n",
    "\n",
    "plt.figure(figsize=(14, 6))\n",
    "df_clean.set_index('Timestamp')[['GHI', 'DNI', 'DHI','Tamb',]].plot()\n",
    "plt.title('GHI,DNI,DHI, Tamb over Time')\n",
    "plt.ylabel('Value')\n",
    "plt.xlabel('Time')\n",
    "plt.grid(True)\n",
    "plt.show()"
   ]
  },
  {
   "cell_type": "code",
   "execution_count": null,
   "id": "b773cc87",
   "metadata": {},
   "outputs": [],
   "source": [
    "if 'Cleaning' in df_clean.columns:\n",
    "    df_clean.groupby('Cleaning')[['ModA', 'ModB']].mean().plot(kind='bar')\n",
    "    plt.title('ModA & ModB by Cleaning')\n",
    "    plt.ylabel('Module Reading')\n",
    "    plt.grid(True)\n",
    "    plt.show()"
   ]
  },
  {
   "cell_type": "code",
   "execution_count": null,
   "id": "3024d1cd",
   "metadata": {},
   "outputs": [],
   "source": [
    "plt.figure(figsize=(8,6))\n",
    "sns.heatmap(df_clean[['GHI', 'DNI', 'DHI', 'TModA', 'TModB']].corr(), annot=True, cmap='coolwarm')\n",
    "plt.title('Correlation Heatmap')\n",
    "plt.show()"
   ]
  },
  {
   "cell_type": "code",
   "execution_count": null,
   "id": "590c0875",
   "metadata": {},
   "outputs": [],
   "source": [
    "sns.scatterplot(data=df_clean, x='WS', y='GHI')\n",
    "plt.title('WS vs GHI')\n",
    "plt.grid(True)\n",
    "plt.show()\n"
   ]
  },
  {
   "cell_type": "code",
   "execution_count": null,
   "id": "0c7d129d",
   "metadata": {},
   "outputs": [],
   "source": [
    "sns.scatterplot(data=df_clean, x='RH', y='Tamb')\n",
    "plt.title('RH vs Tamb')\n",
    "plt.grid(True)\n",
    "plt.show()"
   ]
  },
  {
   "cell_type": "code",
   "execution_count": null,
   "id": "0cd54363",
   "metadata": {},
   "outputs": [],
   "source": [
    "# Requires windrose library: pip install windrose\n",
    "from windrose import WindroseAxes\n",
    "\n",
    "ax = WindroseAxes.from_ax()\n",
    "ax.bar(df_clean['WD'], df_clean['WS'], normed=True, opening=0.8, edgecolor='white')\n",
    "ax.set_legend()\n",
    "plt.title('Wind Rose')\n",
    "plt.show()\n"
   ]
  },
  {
   "cell_type": "code",
   "execution_count": null,
   "id": "21c189b3",
   "metadata": {},
   "outputs": [],
   "source": [
    "df_clean['GHI'].hist(bins=30, figsize=(6,4))\n",
    "plt.title('Histogram of GHI')\n",
    "plt.grid(True)\n",
    "plt.show()\n"
   ]
  },
  {
   "cell_type": "code",
   "execution_count": null,
   "id": "2247b231",
   "metadata": {},
   "outputs": [],
   "source": [
    "df_clean['WS'].hist(bins=30, figsize=(6,4))\n",
    "plt.title('Histogram of WS')\n",
    "plt.grid(True)\n",
    "plt.show()"
   ]
  },
  {
   "cell_type": "code",
   "execution_count": null,
   "id": "5d358d2d",
   "metadata": {},
   "outputs": [],
   "source": [
    "fig = px.scatter(df_clean, x='GHI', y='Tamb',\n",
    "                 size='RH', color='RH', \n",
    "                 title='GHI vs Tamb (Bubble size = RH)')\n",
    "fig.show()\n"
   ]
  }
 ],
 "metadata": {
  "kernelspec": {
   "display_name": "venv",
   "language": "python",
   "name": "python3"
  },
  "language_info": {
   "codemirror_mode": {
    "name": "ipython",
    "version": 3
   },
   "file_extension": ".py",
   "mimetype": "text/x-python",
   "name": "python",
   "nbconvert_exporter": "python",
   "pygments_lexer": "ipython3",
   "version": "3.12.10"
  }
 },
 "nbformat": 4,
 "nbformat_minor": 5
}
